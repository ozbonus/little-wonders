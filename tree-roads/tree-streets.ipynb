{
 "cells": [
  {
   "cell_type": "markdown",
   "metadata": {},
   "source": [
    "# Tree Streets\n",
    "\n",
    "Americans like naming their streets after trees, especially in the suburbs.\n",
    "\n",
    "TODO: Multiprocessing stuff doesn't play well with notebooks or Windows."
   ]
  },
  {
   "cell_type": "markdown",
   "metadata": {},
   "source": [
    "## Resources\n",
    "\n",
    "https://www.treesofnorthamerica.net/\n",
    "\n",
    "https://www.washingtonpost.com/blogs/govbeat/wp/2015/03/06/these-are-the-most-popular-street-names-in-every-state/\n",
    "\n",
    "CAUTION! https://tigerweb.geo.census.gov/tigerwebmain/Files/acs19/tigerweb_acs19_roads_pri_us.html\n",
    "\n",
    "https://tigerweb.geo.census.gov/tigerwebmain/TIGERweb_roads_sec.html\n",
    "\n",
    "https://tigerweb.geo.census.gov/tigerwebmain/TIGERweb_roads_loc.html\n",
    "\n",
    "https://www2.census.gov/geo/pdfs/maps-data/data/tiger/tgrshp2009/TGRSHP09AF.pdf"
   ]
  },
  {
   "cell_type": "markdown",
   "metadata": {},
   "source": [
    "# Requirements\n",
    "\n",
    "* pandas\n",
    "* Matplotlib\n",
    "* lxml"
   ]
  },
  {
   "cell_type": "code",
   "execution_count": 1,
   "metadata": {},
   "outputs": [],
   "source": [
    "from multiprocessing import Pool\n",
    "import zipfile\n",
    "import pandas as pd\n",
    "import matplotlib.pyplot as plt"
   ]
  },
  {
   "cell_type": "code",
   "execution_count": 4,
   "metadata": {},
   "outputs": [],
   "source": [
    "TREES = ['maple',\n",
    "         'pine',\n",
    "         'sweetgum',\n",
    "         'fir',\n",
    "         'aspen',\n",
    "         'dogwood',\n",
    "         'oak',\n",
    "         'cherry',\n",
    "         'rosewood',\n",
    "         'ash',\n",
    "         'basswood',\n",
    "         'beech',\n",
    "         'birch',\n",
    "         'butternut',\n",
    "         'chestnut',\n",
    "         'cottonwood',\n",
    "         'elm',\n",
    "         'hawthorn',\n",
    "         'hemlock',\n",
    "         'hickory',\n",
    "         'larch',\n",
    "         'hornbeam',\n",
    "         'locust',\n",
    "         'cedar',\n",
    "         'sassafras',\n",
    "         'spruce',\n",
    "         'sycamore',\n",
    "         'walnut',\n",
    "         'willow',\n",
    "         'alder',\n",
    "         'hackberry',\n",
    "         'plum',\n",
    "         'holly',\n",
    "         'cyprus',\n",
    "         'bitternut',\n",
    "         'palm',\n",
    "         'eucalyptus',\n",
    "         'balsam',\n",
    "         'buckeye',\n",
    "         'birck',\n",
    "         'gum',\n",
    "         'bullnut',\n",
    "         'boxelder',\n",
    "         'pinyon',\n",
    "         'poplar',\n",
    "         'bearberry',\n",
    "         'bay',\n",
    "         'cherrion',\n",
    "         'possumshaw',\n",
    "         'nutmeg',\n",
    "         'hackberry',\n",
    "         'ciruela',\n",
    "         'hazel',\n",
    "         'coralbean',\n",
    "         'juniper',\n",
    "         'magnolia',\n",
    "         'dogwood',\n",
    "         'park',\n",
    "         'meadow',\n",
    "         'holly',\n",
    "         'evergreen',\n",
    "         'lehua',\n",
    "         'forest',\n",
    "         'stick',\n",
    "         'soapberry',\n",
    "         'enebro',\n",
    "         'persimmon',\n",
    "         'acacia',\n",
    "         'yew',\n",
    "         'hognut',\n",
    "         'pawpaw',\n",
    "         'banana',\n",
    "         'pear',\n",
    "         'crabapple',\n",
    "         'juneberry',\n",
    "         'branch',\n",
    "         'palme']\n",
    "\n",
    "IDEAS = []"
   ]
  },
  {
   "cell_type": "code",
   "execution_count": 5,
   "metadata": {},
   "outputs": [
    {
     "data": {
      "text/plain": [
       "'tigerweb_acs19_roads_sec_az.html'"
      ]
     },
     "execution_count": 5,
     "metadata": {},
     "output_type": "execute_result"
    }
   ],
   "source": [
    "file = zipfile.ZipFile('tree-streets.zip')\n",
    "file.namelist()[5]"
   ]
  },
  {
   "cell_type": "code",
   "execution_count": 6,
   "metadata": {},
   "outputs": [],
   "source": [
    "def zip_to_df(filename):\n",
    "    \"\"\"\n",
    "    Take a zipfile filled with nicely-formatted HTML tables and return\n",
    "    one very large pandas DataFrame\n",
    "    \"\"\"\n",
    "    \n",
    "    dataframes = []\n",
    "    archive = zipfile.ZipFile(filename, 'r')\n",
    "    namelist = archive.namelist()\n",
    "    \n",
    "    for file in namelist:\n",
    "        data = archive.open(file)\n",
    "        df = pd.read_html(data)[0]\n",
    "        data.close()\n",
    "        dataframes.append(df)\n",
    "    \n",
    "    archive.close()\n",
    "    concat = pd.concat(dataframes)\n",
    "    \n",
    "    return concat"
   ]
  },
  {
   "cell_type": "code",
   "execution_count": null,
   "metadata": {},
   "outputs": [],
   "source": [
    "df = zip_to_df('tree-streets.zip')"
   ]
  },
  {
   "cell_type": "code",
   "execution_count": null,
   "metadata": {},
   "outputs": [],
   "source": [
    "%%time\n",
    "df = zip_to_df('tree-streets.zip')"
   ]
  },
  {
   "cell_type": "code",
   "execution_count": null,
   "metadata": {},
   "outputs": [],
   "source": [
    "%%time\n",
    "archive = zipfile.ZipFile('tree-streets.zip', 'r')\n",
    "namelist = archive.namelist()\n",
    "\n",
    "def extract(name):\n",
    "    global archive\n",
    "    data = archive.open(name)\n",
    "    df = pd.read_html(data)[0]\n",
    "    data.close()\n",
    "    return df\n",
    "\n",
    "with Pool(5) as p:\n",
    "    dataframes = p.map(extract, namelist, archive)\n",
    "\n",
    "archive.close()\n",
    "result = pd.concat(dataframes)"
   ]
  },
  {
   "cell_type": "code",
   "execution_count": null,
   "metadata": {},
   "outputs": [],
   "source": [
    "from multiprocessing import Pool\n",
    "\n",
    "def f(x):\n",
    "    return x*x\n",
    "\n",
    "if __name__ == '__main__':\n",
    "    with Pool(5) as p:\n",
    "        print(p.map(f, [1, 2, 3]))"
   ]
  }
 ],
 "metadata": {
  "kernelspec": {
   "display_name": "Python 3",
   "language": "python",
   "name": "python3"
  },
  "language_info": {
   "codemirror_mode": {
    "name": "ipython",
    "version": 3
   },
   "file_extension": ".py",
   "mimetype": "text/x-python",
   "name": "python",
   "nbconvert_exporter": "python",
   "pygments_lexer": "ipython3",
   "version": "3.7.5"
  }
 },
 "nbformat": 4,
 "nbformat_minor": 4
}