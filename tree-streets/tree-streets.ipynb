{
 "cells": [
  {
   "cell_type": "markdown",
   "metadata": {},
   "source": [
    "# Tree Streets\n",
    "\n",
    "Americans like naming their streets after trees, especially in the suburbs."
   ]
  },
  {
   "cell_type": "markdown",
   "metadata": {},
   "source": [
    "## Resources\n",
    "\n",
    "https://www.treesofnorthamerica.net/\n",
    "\n",
    "https://www.washingtonpost.com/blogs/govbeat/wp/2015/03/06/these-are-the-most-popular-street-names-in-every-state/"
   ]
  },
  {
   "cell_type": "markdown",
   "metadata": {},
   "source": [
    "# Requirements\n",
    "\n",
    "* pandas\n",
    "* Matplotlib\n",
    "* lxml"
   ]
  },
  {
   "cell_type": "code",
   "execution_count": 24,
   "metadata": {},
   "outputs": [],
   "source": [
    "import pandas as pd\n",
    "import matplotlib.pyplot as plt"
   ]
  },
  {
   "cell_type": "code",
   "execution_count": 2,
   "metadata": {},
   "outputs": [],
   "source": [
    "TREES = ['maple',\n",
    "         'pine',\n",
    "         'sweetgum',\n",
    "         'fir',\n",
    "         'aspen',\n",
    "         'dogwood',\n",
    "         'oak',\n",
    "         'cherry',\n",
    "         'rosewood',\n",
    "         'ash',\n",
    "         'basswood',\n",
    "         'beech',\n",
    "         'birch',\n",
    "         'butternut',\n",
    "         'chestnut',\n",
    "         'cottonwood',\n",
    "         'elm',\n",
    "         'hawthorn',\n",
    "         'hemlock',\n",
    "         'hickory',\n",
    "         'larch',\n",
    "         'hornbeam',\n",
    "         'locust',\n",
    "         'cedar',\n",
    "         'sassafras',\n",
    "         'spruce',\n",
    "         'sycamore',\n",
    "         'walnut',\n",
    "         'willow',\n",
    "         'alder',\n",
    "         'hackberry',\n",
    "         'plum',\n",
    "         'holly',\n",
    "         'cyprus',\n",
    "         'bitternut',\n",
    "         'palm',\n",
    "         'eucalyptus',\n",
    "         'balsam',\n",
    "         'buckeye',\n",
    "         'birck',\n",
    "         'gum',\n",
    "         'bullnut',\n",
    "         'boxelder',\n",
    "         'pinyon',\n",
    "         'poplar',\n",
    "         'bearberry',\n",
    "         'bay',\n",
    "         'cherrion',\n",
    "         'possumshaw',\n",
    "         'nutmeg',\n",
    "         'hackberry',\n",
    "         'ciruela',\n",
    "         'hazel',\n",
    "         'coralbean',\n",
    "         'juniper',\n",
    "         'magnolia',\n",
    "         'dogwood',\n",
    "         'park',\n",
    "         'meadow',\n",
    "         'holly',\n",
    "         'evergreen',\n",
    "         'lehua',\n",
    "         'forest',\n",
    "         'stick',\n",
    "         'soapberry',\n",
    "         'enebro',\n",
    "         'persimmon',\n",
    "         'acacia',\n",
    "         'yew',\n",
    "         'hognut',\n",
    "         'pawpaw',\n",
    "         'banana',\n",
    "         'pear',\n",
    "         'crabapple',\n",
    "         'juneberry',\n",
    "         'branch']\n",
    "\n",
    "IDEAS = []"
   ]
  },
  {
   "cell_type": "code",
   "execution_count": 29,
   "metadata": {},
   "outputs": [],
   "source": [
    "df = pd.read_html('tigerweb_acs19_roads_sec_mp.html')[0]"
   ]
  },
  {
   "cell_type": "code",
   "execution_count": 34,
   "metadata": {},
   "outputs": [
    {
     "data": {
      "text/plain": [
       "Chalan Santa Lourdes      2\n",
       "Hagoi                     2\n",
       "Kagman                    2\n",
       "Lower Base                2\n",
       "Magpi                     1\n",
       "Chalan Tun Antonio Apa    1\n",
       "Windward                  1\n",
       "Matansa                   1\n",
       "Naftan                    1\n",
       "Flame Tree                1\n",
       "Chalan Hagoi              1\n",
       "Chalan Savana             1\n",
       "Koblerville               1\n",
       "Chalan Matuis             1\n",
       "Sugar King                1\n",
       "Talofofo                  1\n",
       "Afetna                    1\n",
       "San Francisco de Borja    1\n",
       "Dandan                    1\n",
       "Tapochao                  1\n",
       "Chalan Tun Joaquin Doi    1\n",
       "Navy Hill                 1\n",
       "Capitol Hill              1\n",
       "Gualo Rai                 1\n",
       "Micro Beach               1\n",
       "As Gonno                  1\n",
       "Name: BASENAME, dtype: int64"
      ]
     },
     "execution_count": 34,
     "metadata": {},
     "output_type": "execute_result"
    }
   ],
   "source": [
    "df['BASENAME'].value_counts()"
   ]
  }
 ],
 "metadata": {
  "kernelspec": {
   "display_name": "Python 3",
   "language": "python",
   "name": "python3"
  },
  "language_info": {
   "codemirror_mode": {
    "name": "ipython",
    "version": 3
   },
   "file_extension": ".py",
   "mimetype": "text/x-python",
   "name": "python",
   "nbconvert_exporter": "python",
   "pygments_lexer": "ipython3",
   "version": "3.7.5"
  }
 },
 "nbformat": 4,
 "nbformat_minor": 4
}
